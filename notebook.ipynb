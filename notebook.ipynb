{
 "cells": [
  {
   "cell_type": "code",
   "execution_count": 4,
   "metadata": {},
   "outputs": [
    {
     "data": {
      "text/html": [
       "<div>\n",
       "<style scoped>\n",
       "    .dataframe tbody tr th:only-of-type {\n",
       "        vertical-align: middle;\n",
       "    }\n",
       "\n",
       "    .dataframe tbody tr th {\n",
       "        vertical-align: top;\n",
       "    }\n",
       "\n",
       "    .dataframe thead th {\n",
       "        text-align: right;\n",
       "    }\n",
       "</style>\n",
       "<table border=\"1\" class=\"dataframe\">\n",
       "  <thead>\n",
       "    <tr style=\"text-align: right;\">\n",
       "      <th></th>\n",
       "      <th>Text</th>\n",
       "      <th>Opinion(1/0)</th>\n",
       "      <th>Question(1/0)</th>\n",
       "      <th>Answer(1/0)</th>\n",
       "      <th>Sentiment(1-7)</th>\n",
       "      <th>Confusion(1-7)</th>\n",
       "      <th>Urgency(1-7)</th>\n",
       "      <th>CourseType</th>\n",
       "      <th>forum_post_id</th>\n",
       "      <th>course_display_name</th>\n",
       "      <th>forum_uid</th>\n",
       "      <th>created_at</th>\n",
       "      <th>post_type</th>\n",
       "      <th>anonymous</th>\n",
       "      <th>anonymous_to_peers</th>\n",
       "      <th>up_count</th>\n",
       "      <th>comment_thread_id</th>\n",
       "      <th>reads</th>\n",
       "    </tr>\n",
       "  </thead>\n",
       "  <tbody>\n",
       "    <tr>\n",
       "      <th>0</th>\n",
       "      <td>Interesting! How often we say those things to ...</td>\n",
       "      <td>1</td>\n",
       "      <td>0</td>\n",
       "      <td>0</td>\n",
       "      <td>6.5</td>\n",
       "      <td>2.0</td>\n",
       "      <td>1.5</td>\n",
       "      <td>Education</td>\n",
       "      <td>5225177f2c501f0a00000015</td>\n",
       "      <td>Education/EDUC115N/How_to_Learn_Math</td>\n",
       "      <td>30CADB93E6DE4711193D7BD05F2AE95C</td>\n",
       "      <td>2013-09-02 22:55:59</td>\n",
       "      <td>Comment</td>\n",
       "      <td>0.0</td>\n",
       "      <td>0.0</td>\n",
       "      <td>0.0</td>\n",
       "      <td>5221a8262cfae31200000001</td>\n",
       "      <td>41.0</td>\n",
       "    </tr>\n",
       "    <tr>\n",
       "      <th>1</th>\n",
       "      <td>What is \\Algebra as a Math Game\\\" or are you j...</td>\n",
       "      <td>0</td>\n",
       "      <td>1</td>\n",
       "      <td>0</td>\n",
       "      <td>4.0</td>\n",
       "      <td>5.0</td>\n",
       "      <td>3.5</td>\n",
       "      <td>Education</td>\n",
       "      <td>5207d0e9935dfc0e0000005e</td>\n",
       "      <td>Education/EDUC115N/How_to_Learn_Math</td>\n",
       "      <td>37D8FAEE7D0B94B6CFC57D98FD3D0BA5</td>\n",
       "      <td>2013-08-11 17:59:05</td>\n",
       "      <td>Comment</td>\n",
       "      <td>0.0</td>\n",
       "      <td>0.0</td>\n",
       "      <td>0.0</td>\n",
       "      <td>520663839df35b0a00000043</td>\n",
       "      <td>55.0</td>\n",
       "    </tr>\n",
       "    <tr>\n",
       "      <th>2</th>\n",
       "      <td>I like the idea of my kids principal who says ...</td>\n",
       "      <td>1</td>\n",
       "      <td>0</td>\n",
       "      <td>0</td>\n",
       "      <td>5.5</td>\n",
       "      <td>3.0</td>\n",
       "      <td>2.5</td>\n",
       "      <td>Education</td>\n",
       "      <td>52052c82d01fec0a00000071</td>\n",
       "      <td>Education/EDUC115N/How_to_Learn_Math</td>\n",
       "      <td>CC11480215042B3EB6E5905EAB13B733</td>\n",
       "      <td>2013-08-09 17:53:06</td>\n",
       "      <td>Comment</td>\n",
       "      <td>0.0</td>\n",
       "      <td>0.0</td>\n",
       "      <td>0.0</td>\n",
       "      <td>51e59415e339d716000001a6</td>\n",
       "      <td>25.0</td>\n",
       "    </tr>\n",
       "  </tbody>\n",
       "</table>\n",
       "</div>"
      ],
      "text/plain": [
       "                                                Text  Opinion(1/0)  \\\n",
       "0  Interesting! How often we say those things to ...             1   \n",
       "1  What is \\Algebra as a Math Game\\\" or are you j...             0   \n",
       "2  I like the idea of my kids principal who says ...             1   \n",
       "\n",
       "   Question(1/0)  Answer(1/0)  Sentiment(1-7)  Confusion(1-7)  Urgency(1-7)  \\\n",
       "0              0            0             6.5             2.0           1.5   \n",
       "1              1            0             4.0             5.0           3.5   \n",
       "2              0            0             5.5             3.0           2.5   \n",
       "\n",
       "  CourseType             forum_post_id                   course_display_name  \\\n",
       "0  Education  5225177f2c501f0a00000015  Education/EDUC115N/How_to_Learn_Math   \n",
       "1  Education  5207d0e9935dfc0e0000005e  Education/EDUC115N/How_to_Learn_Math   \n",
       "2  Education  52052c82d01fec0a00000071  Education/EDUC115N/How_to_Learn_Math   \n",
       "\n",
       "                          forum_uid          created_at post_type  anonymous  \\\n",
       "0  30CADB93E6DE4711193D7BD05F2AE95C 2013-09-02 22:55:59   Comment        0.0   \n",
       "1  37D8FAEE7D0B94B6CFC57D98FD3D0BA5 2013-08-11 17:59:05   Comment        0.0   \n",
       "2  CC11480215042B3EB6E5905EAB13B733 2013-08-09 17:53:06   Comment        0.0   \n",
       "\n",
       "   anonymous_to_peers  up_count         comment_thread_id  reads  \n",
       "0                 0.0       0.0  5221a8262cfae31200000001   41.0  \n",
       "1                 0.0       0.0  520663839df35b0a00000043   55.0  \n",
       "2                 0.0       0.0  51e59415e339d716000001a6   25.0  "
      ]
     },
     "execution_count": 4,
     "metadata": {},
     "output_type": "execute_result"
    }
   ],
   "source": [
    "import pandas as pd\n",
    "from warnings import filterwarnings\n",
    "filterwarnings('ignore')\n",
    "\n",
    "df = pd.read_excel('data/stanfordMOOCForumPostsSet.xlsx')\n",
    "df.head(3)"
   ]
  },
  {
   "cell_type": "code",
   "execution_count": 5,
   "metadata": {},
   "outputs": [
    {
     "data": {
      "application/vnd.jupyter.widget-view+json": {
       "model_id": "27c3bc7693b148afab54db109c99fd5b",
       "version_major": 2,
       "version_minor": 0
      },
      "text/plain": [
       "model.safetensors:   2%|2         | 10.5M/465M [00:00<?, ?B/s]"
      ]
     },
     "metadata": {},
     "output_type": "display_data"
    },
    {
     "data": {
      "application/vnd.jupyter.widget-view+json": {
       "model_id": "f447b9a4d80b462f8bcc1e63e19325d8",
       "version_major": 2,
       "version_minor": 0
      },
      "text/plain": [
       "generation_config.json:   0%|          | 0.00/301 [00:00<?, ?B/s]"
      ]
     },
     "metadata": {},
     "output_type": "display_data"
    },
    {
     "data": {
      "application/vnd.jupyter.widget-view+json": {
       "model_id": "ab5e9500643e471ba206e423d403b8d2",
       "version_major": 2,
       "version_minor": 0
      },
      "text/plain": [
       "tokenizer_config.json:   0%|          | 0.00/337 [00:00<?, ?B/s]"
      ]
     },
     "metadata": {},
     "output_type": "display_data"
    },
    {
     "data": {
      "application/vnd.jupyter.widget-view+json": {
       "model_id": "dc63708cef144275bda14b15a65e0f29",
       "version_major": 2,
       "version_minor": 0
      },
      "text/plain": [
       "source.spm:   0%|          | 0.00/803k [00:00<?, ?B/s]"
      ]
     },
     "metadata": {},
     "output_type": "display_data"
    },
    {
     "data": {
      "application/vnd.jupyter.widget-view+json": {
       "model_id": "a6b3b4133980433dbf29a7f13f98110a",
       "version_major": 2,
       "version_minor": 0
      },
      "text/plain": [
       "target.spm:   0%|          | 0.00/825k [00:00<?, ?B/s]"
      ]
     },
     "metadata": {},
     "output_type": "display_data"
    },
    {
     "data": {
      "application/vnd.jupyter.widget-view+json": {
       "model_id": "3fc2e04e3563444fa6cc330ae0de83ce",
       "version_major": 2,
       "version_minor": 0
      },
      "text/plain": [
       "vocab.json:   0%|          | 0.00/1.38M [00:00<?, ?B/s]"
      ]
     },
     "metadata": {},
     "output_type": "display_data"
    },
    {
     "data": {
      "application/vnd.jupyter.widget-view+json": {
       "model_id": "27e30d087484484a9cca46b7eddeecd8",
       "version_major": 2,
       "version_minor": 0
      },
      "text/plain": [
       "special_tokens_map.json:   0%|          | 0.00/65.0 [00:00<?, ?B/s]"
      ]
     },
     "metadata": {},
     "output_type": "display_data"
    },
    {
     "name": "stderr",
     "output_type": "stream",
     "text": [
      "Device set to use cpu\n"
     ]
    }
   ],
   "source": [
    "from transformers import pipeline\n",
    "translator = pipeline(\"translation\", model=\"Helsinki-NLP/opus-mt-tc-big-en-pt\")"
   ]
  },
  {
   "cell_type": "code",
   "execution_count": 10,
   "metadata": {},
   "outputs": [
    {
     "data": {
      "text/plain": [
       "'I like the idea of my kids principal who says \\\\Smart doesn\\'t mean easy, smart means working hard\\\\\" and incorporating the idea of making mistakes into working hard.\"'"
      ]
     },
     "execution_count": 10,
     "metadata": {},
     "output_type": "execute_result"
    }
   ],
   "source": [
    "df[\"Text\"][2]"
   ]
  },
  {
   "cell_type": "code",
   "execution_count": 14,
   "metadata": {},
   "outputs": [
    {
     "data": {
      "text/plain": [
       "'Eu gosto da ideia do diretor dos meus filhos que diz “Smart não significa fácil, inteligente significa trabalhar duro” e incorpora a ideia de cometer erros para trabalhar duro.'"
      ]
     },
     "execution_count": 14,
     "metadata": {},
     "output_type": "execute_result"
    }
   ],
   "source": [
    "translator(df[\"Text\"][2], max_length=1024)[0][\"translation_text\"]"
   ]
  },
  {
   "cell_type": "code",
   "execution_count": null,
   "metadata": {},
   "outputs": [
    {
     "name": "stderr",
     "output_type": "stream",
     "text": [
      "Your input_length: 479 is bigger than 0.9 * max_length: 512. You might consider increasing your max_length manually, e.g. translator('...', max_length=400)\n",
      "Token indices sequence length is longer than the specified maximum sequence length for this model (645 > 512). Running this sequence through the model will result in indexing errors\n",
      "Your input_length: 645 is bigger than 0.9 * max_length: 512. You might consider increasing your max_length manually, e.g. translator('...', max_length=400)\n",
      "Your input_length: 590 is bigger than 0.9 * max_length: 512. You might consider increasing your max_length manually, e.g. translator('...', max_length=400)\n",
      "Your input_length: 498 is bigger than 0.9 * max_length: 512. You might consider increasing your max_length manually, e.g. translator('...', max_length=400)\n",
      "Your input_length: 515 is bigger than 0.9 * max_length: 512. You might consider increasing your max_length manually, e.g. translator('...', max_length=400)\n",
      "Your input_length: 558 is bigger than 0.9 * max_length: 512. You might consider increasing your max_length manually, e.g. translator('...', max_length=400)\n",
      "Your input_length: 637 is bigger than 0.9 * max_length: 512. You might consider increasing your max_length manually, e.g. translator('...', max_length=400)\n",
      "Your input_length: 535 is bigger than 0.9 * max_length: 512. You might consider increasing your max_length manually, e.g. translator('...', max_length=400)\n",
      "Your input_length: 584 is bigger than 0.9 * max_length: 512. You might consider increasing your max_length manually, e.g. translator('...', max_length=400)\n",
      "Your input_length: 495 is bigger than 0.9 * max_length: 512. You might consider increasing your max_length manually, e.g. translator('...', max_length=400)\n",
      "Your input_length: 495 is bigger than 0.9 * max_length: 512. You might consider increasing your max_length manually, e.g. translator('...', max_length=400)\n",
      "Your input_length: 544 is bigger than 0.9 * max_length: 512. You might consider increasing your max_length manually, e.g. translator('...', max_length=400)\n",
      "Your input_length: 592 is bigger than 0.9 * max_length: 512. You might consider increasing your max_length manually, e.g. translator('...', max_length=400)\n",
      "Your input_length: 470 is bigger than 0.9 * max_length: 512. You might consider increasing your max_length manually, e.g. translator('...', max_length=400)\n"
     ]
    }
   ],
   "source": [
    "translated_posts = df[\"Text\"].apply(lambda x: translator(x, max_length=1024)[0][\"translation_text\"])\n",
    "df.insert(1, column=\"Text_PT\", value=translated_posts)  \n",
    "df.head(3)"
   ]
  },
  {
   "cell_type": "code",
   "execution_count": 17,
   "metadata": {},
   "outputs": [],
   "source": [
    "df.to_excel('data/stanfordMOOCForumPostsSet_PT.xlsx', index=False)"
   ]
  },
  {
   "cell_type": "code",
   "execution_count": 16,
   "metadata": {},
   "outputs": [
    {
     "data": {
      "text/plain": [
       "0    Interessante! Quantas vezes dizemos essas cois...\n",
       "1    O que é \"Álgebra como um Jogo de Matemática\" o...\n",
       "2    Eu gosto da ideia do diretor dos meus filhos q...\n",
       "3    A partir de suas respostas, parece que os alun...\n",
       "4    Os meninos adoraram a matemática, porque há li...\n",
       "5    A ideia generalizada de que ser bom em matemát...\n",
       "6    O módulo de revisão por pares ainda não está t...\n",
       "7    Gostaria de começar o ano de folga compartilha...\n",
       "8    Pedir aos alunos que ilustrem como os erros po...\n",
       "9    Eu acho que isso cai no professor. Alguém me d...\n",
       "Name: Text, dtype: object"
      ]
     },
     "execution_count": 16,
     "metadata": {},
     "output_type": "execute_result"
    }
   ],
   "source": [
    "df[\"Text\"][0:10].apply(lambda x: translator(x, max_length=1024)[0][\"translation_text\"])"
   ]
  }
 ],
 "metadata": {
  "kernelspec": {
   "display_name": "base",
   "language": "python",
   "name": "python3"
  },
  "language_info": {
   "codemirror_mode": {
    "name": "ipython",
    "version": 3
   },
   "file_extension": ".py",
   "mimetype": "text/x-python",
   "name": "python",
   "nbconvert_exporter": "python",
   "pygments_lexer": "ipython3",
   "version": "3.12.7"
  }
 },
 "nbformat": 4,
 "nbformat_minor": 2
}
