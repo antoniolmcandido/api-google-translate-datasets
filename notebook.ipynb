{
 "cells": [
  {
   "cell_type": "markdown",
   "metadata": {},
   "source": [
    "##### Carregando dataset"
   ]
  },
  {
   "cell_type": "code",
   "execution_count": 2,
   "metadata": {
    "colab": {
     "base_uri": "https://localhost:8080/",
     "height": 406
    },
    "executionInfo": {
     "elapsed": 15488,
     "status": "ok",
     "timestamp": 1738850350410,
     "user": {
      "displayName": "Antonio Leandro Martins Candido",
      "userId": "15737482048554646673"
     },
     "user_tz": 180
    },
    "id": "BPXksUai7BeA",
    "outputId": "805b3854-1b34-4fda-b182-71ea1183b571"
   },
   "outputs": [
    {
     "data": {
      "text/html": [
       "<div>\n",
       "<style scoped>\n",
       "    .dataframe tbody tr th:only-of-type {\n",
       "        vertical-align: middle;\n",
       "    }\n",
       "\n",
       "    .dataframe tbody tr th {\n",
       "        vertical-align: top;\n",
       "    }\n",
       "\n",
       "    .dataframe thead th {\n",
       "        text-align: right;\n",
       "    }\n",
       "</style>\n",
       "<table border=\"1\" class=\"dataframe\">\n",
       "  <thead>\n",
       "    <tr style=\"text-align: right;\">\n",
       "      <th></th>\n",
       "      <th>Text</th>\n",
       "      <th>Opinion(1/0)</th>\n",
       "      <th>Question(1/0)</th>\n",
       "      <th>Answer(1/0)</th>\n",
       "      <th>Sentiment(1-7)</th>\n",
       "      <th>Confusion(1-7)</th>\n",
       "      <th>Urgency(1-7)</th>\n",
       "      <th>CourseType</th>\n",
       "      <th>forum_post_id</th>\n",
       "      <th>course_display_name</th>\n",
       "      <th>forum_uid</th>\n",
       "      <th>created_at</th>\n",
       "      <th>post_type</th>\n",
       "      <th>anonymous</th>\n",
       "      <th>anonymous_to_peers</th>\n",
       "      <th>up_count</th>\n",
       "      <th>comment_thread_id</th>\n",
       "      <th>reads</th>\n",
       "    </tr>\n",
       "  </thead>\n",
       "  <tbody>\n",
       "    <tr>\n",
       "      <th>0</th>\n",
       "      <td>Interesting! How often we say those things to ...</td>\n",
       "      <td>1</td>\n",
       "      <td>0</td>\n",
       "      <td>0</td>\n",
       "      <td>6.5</td>\n",
       "      <td>2.0</td>\n",
       "      <td>1.5</td>\n",
       "      <td>Education</td>\n",
       "      <td>5225177f2c501f0a00000015</td>\n",
       "      <td>Education/EDUC115N/How_to_Learn_Math</td>\n",
       "      <td>30CADB93E6DE4711193D7BD05F2AE95C</td>\n",
       "      <td>2013-09-02 22:55:59</td>\n",
       "      <td>Comment</td>\n",
       "      <td>0.0</td>\n",
       "      <td>0.0</td>\n",
       "      <td>0.0</td>\n",
       "      <td>5221a8262cfae31200000001</td>\n",
       "      <td>41.0</td>\n",
       "    </tr>\n",
       "    <tr>\n",
       "      <th>1</th>\n",
       "      <td>What is \\Algebra as a Math Game\\\" or are you j...</td>\n",
       "      <td>0</td>\n",
       "      <td>1</td>\n",
       "      <td>0</td>\n",
       "      <td>4.0</td>\n",
       "      <td>5.0</td>\n",
       "      <td>3.5</td>\n",
       "      <td>Education</td>\n",
       "      <td>5207d0e9935dfc0e0000005e</td>\n",
       "      <td>Education/EDUC115N/How_to_Learn_Math</td>\n",
       "      <td>37D8FAEE7D0B94B6CFC57D98FD3D0BA5</td>\n",
       "      <td>2013-08-11 17:59:05</td>\n",
       "      <td>Comment</td>\n",
       "      <td>0.0</td>\n",
       "      <td>0.0</td>\n",
       "      <td>0.0</td>\n",
       "      <td>520663839df35b0a00000043</td>\n",
       "      <td>55.0</td>\n",
       "    </tr>\n",
       "    <tr>\n",
       "      <th>2</th>\n",
       "      <td>I like the idea of my kids principal who says ...</td>\n",
       "      <td>1</td>\n",
       "      <td>0</td>\n",
       "      <td>0</td>\n",
       "      <td>5.5</td>\n",
       "      <td>3.0</td>\n",
       "      <td>2.5</td>\n",
       "      <td>Education</td>\n",
       "      <td>52052c82d01fec0a00000071</td>\n",
       "      <td>Education/EDUC115N/How_to_Learn_Math</td>\n",
       "      <td>CC11480215042B3EB6E5905EAB13B733</td>\n",
       "      <td>2013-08-09 17:53:06</td>\n",
       "      <td>Comment</td>\n",
       "      <td>0.0</td>\n",
       "      <td>0.0</td>\n",
       "      <td>0.0</td>\n",
       "      <td>51e59415e339d716000001a6</td>\n",
       "      <td>25.0</td>\n",
       "    </tr>\n",
       "  </tbody>\n",
       "</table>\n",
       "</div>"
      ],
      "text/plain": [
       "                                                Text  Opinion(1/0)  \\\n",
       "0  Interesting! How often we say those things to ...             1   \n",
       "1  What is \\Algebra as a Math Game\\\" or are you j...             0   \n",
       "2  I like the idea of my kids principal who says ...             1   \n",
       "\n",
       "   Question(1/0)  Answer(1/0)  Sentiment(1-7)  Confusion(1-7)  Urgency(1-7)  \\\n",
       "0              0            0             6.5             2.0           1.5   \n",
       "1              1            0             4.0             5.0           3.5   \n",
       "2              0            0             5.5             3.0           2.5   \n",
       "\n",
       "  CourseType             forum_post_id                   course_display_name  \\\n",
       "0  Education  5225177f2c501f0a00000015  Education/EDUC115N/How_to_Learn_Math   \n",
       "1  Education  5207d0e9935dfc0e0000005e  Education/EDUC115N/How_to_Learn_Math   \n",
       "2  Education  52052c82d01fec0a00000071  Education/EDUC115N/How_to_Learn_Math   \n",
       "\n",
       "                          forum_uid          created_at post_type  anonymous  \\\n",
       "0  30CADB93E6DE4711193D7BD05F2AE95C 2013-09-02 22:55:59   Comment        0.0   \n",
       "1  37D8FAEE7D0B94B6CFC57D98FD3D0BA5 2013-08-11 17:59:05   Comment        0.0   \n",
       "2  CC11480215042B3EB6E5905EAB13B733 2013-08-09 17:53:06   Comment        0.0   \n",
       "\n",
       "   anonymous_to_peers  up_count         comment_thread_id  reads  \n",
       "0                 0.0       0.0  5221a8262cfae31200000001   41.0  \n",
       "1                 0.0       0.0  520663839df35b0a00000043   55.0  \n",
       "2                 0.0       0.0  51e59415e339d716000001a6   25.0  "
      ]
     },
     "execution_count": 2,
     "metadata": {},
     "output_type": "execute_result"
    }
   ],
   "source": [
    "import pandas as pd\n",
    "from tqdm import tqdm\n",
    "from googletrans import Translator\n",
    "from warnings import filterwarnings\n",
    "filterwarnings('ignore')\n",
    "\n",
    "df = pd.read_excel('data/stanfordMOOCForumPostsSet.xlsx')\n",
    "df.head(3)"
   ]
  },
  {
   "cell_type": "markdown",
   "metadata": {},
   "source": [
    "##### Pré-processamento"
   ]
  },
  {
   "cell_type": "code",
   "execution_count": 3,
   "metadata": {
    "colab": {
     "base_uri": "https://localhost:8080/"
    },
    "executionInfo": {
     "elapsed": 8,
     "status": "ok",
     "timestamp": 1738850410312,
     "user": {
      "displayName": "Antonio Leandro Martins Candido",
      "userId": "15737482048554646673"
     },
     "user_tz": 180
    },
    "id": "WjTH8tOwi-63",
    "outputId": "ca743f94-a5b3-4527-cc19-abd15cf6911a"
   },
   "outputs": [],
   "source": [
    "# removendo null\n",
    "null_indices = df[df['Text'].isnull()].index.tolist()\n",
    "df[\"Text\"].iloc()[null_indices] = \"\"\n",
    "\n",
    "# removendo int\n",
    "int_indices = df[df[\"Text\"].apply(lambda x: type(x) == int)].index.tolist()\n",
    "df[\"Text\"].iloc()[int_indices] = \"\"\n",
    "\n",
    "# removendo float\n",
    "float_indices = df[df[\"Text\"].apply(lambda x: type(x) == float)].index.tolist()\n",
    "df[\"Text\"].iloc()[float_indices] = \"\"\n",
    "\n",
    "# removendo caracteres especiais\n",
    "def remove_non_ascii(text):\n",
    "    return \"\".join(char for char in text if char.isascii())\n",
    "\n",
    "df[\"Text\"] = df[\"Text\"].apply(lambda x: remove_non_ascii(x))"
   ]
  },
  {
   "cell_type": "markdown",
   "metadata": {},
   "source": [
    "##### Traduzir com Transformer Helsinki"
   ]
  },
  {
   "cell_type": "code",
   "execution_count": null,
   "metadata": {},
   "outputs": [],
   "source": [
    "from transformers import pipeline\n",
    "# translator = pipeline(\"translation\", model=\"Helsinki-NLP/opus-mt-tc-big-en-pt\")\n",
    "translator = pipeline(\"translation\", model=\"Helsinki-NLP/opus-mt-tc-big-en-pt\", device=-1) # device=-1 para CPU"
   ]
  },
  {
   "cell_type": "code",
   "execution_count": 38,
   "metadata": {
    "colab": {
     "base_uri": "https://localhost:8080/",
     "height": 52
    },
    "executionInfo": {
     "elapsed": 22,
     "status": "ok",
     "timestamp": 1738849417068,
     "user": {
      "displayName": "Antonio Leandro Martins Candido",
      "userId": "15737482048554646673"
     },
     "user_tz": 180
    },
    "id": "ZQVhZ_X87BeE",
    "outputId": "17b10c46-34f2-4064-b05e-88a832c09401"
   },
   "outputs": [
    {
     "data": {
      "text/plain": [
       "'The Peer Review module is not fully set up yet.  You haven\\'t done anything wrong -- Professor Boaler simply has a bit more work to do before it is fully ready for us to participate._x0007__x0007_You can read what the Tech Support team has to say about it <a href=\\\\https://class.stanford.edu/courses/Education/EDUC115N/How_to_Learn_Math/discussion/forum/i4x-edx-templates-course-Empty/threads/51e35e8cbf1<phoneRedac><zipRedac><zipRedac><zipRedac><zipRedac>2<zipRedac>\\\\\">in this discussion</a>.\"'"
      ]
     },
     "execution_count": 38,
     "metadata": {},
     "output_type": "execute_result"
    }
   ],
   "source": [
    "df[\"Text\"][6]"
   ]
  },
  {
   "cell_type": "code",
   "execution_count": 102,
   "metadata": {
    "colab": {
     "base_uri": "https://localhost:8080/",
     "height": 52
    },
    "executionInfo": {
     "elapsed": 845,
     "status": "ok",
     "timestamp": 1738850382237,
     "user": {
      "displayName": "Antonio Leandro Martins Candido",
      "userId": "15737482048554646673"
     },
     "user_tz": 180
    },
    "id": "QYeKsWlq7BeE",
    "outputId": "bd33be83-f561-4237-e04a-2495149a2e2e"
   },
   "outputs": [
    {
     "data": {
      "text/plain": [
       "'O módulo de revisão por pares ainda não está totalmente configurado. Você não fez nada de errado - o Professor Boaler simplesmente tem um pouco mais de trabalho a fazer antes de estar totalmente pronto para participarmos._x0007___x0007__Você pode ler o que a equipe de Suporte Técnico tem a dizer sobre isso a hrefhttps://class.stanford.edu/courses/EducationEDUC115N/How_Lear_Lear_'"
      ]
     },
     "execution_count": 102,
     "metadata": {},
     "output_type": "execute_result"
    }
   ],
   "source": [
    "# traduzir um documento\n",
    "translator(df[\"Text\"][6], max_length=2048)[0][\"translation_text\"]"
   ]
  },
  {
   "cell_type": "code",
   "execution_count": 103,
   "metadata": {
    "colab": {
     "base_uri": "https://localhost:8080/",
     "height": 415
    },
    "executionInfo": {
     "elapsed": 8492,
     "status": "ok",
     "timestamp": 1738850393987,
     "user": {
      "displayName": "Antonio Leandro Martins Candido",
      "userId": "15737482048554646673"
     },
     "user_tz": 180
    },
    "id": "db2b38857BeF",
    "outputId": "0285d43a-cafe-44ee-9e6c-f8b2a6203c80"
   },
   "outputs": [
    {
     "data": {
      "text/plain": [
       "0    Interessante! Quantas vezes dizemos essas cois...\n",
       "1    O que é \"Álgebra como um Jogo de Matemática\" o...\n",
       "2    Eu gosto da ideia do diretor dos meus filhos q...\n",
       "3    A partir de suas respostas, parece que os alun...\n",
       "4    Os meninos adoraram a matemática, porque há li...\n",
       "5    A ideia generalizada de que ser bom em matemát...\n",
       "6    O módulo de revisão por pares ainda não está t...\n",
       "7    Gostaria de começar o ano de folga compartilha...\n",
       "8    Pedir aos alunos que ilustrem como os erros po...\n",
       "9    Eu acho que isso cai no professor. Alguém me d...\n",
       "Name: Text, dtype: object"
      ]
     },
     "execution_count": 103,
     "metadata": {},
     "output_type": "execute_result"
    }
   ],
   "source": [
    "# teste de 10 traduções\n",
    "df[\"Text\"][0:10].apply(lambda x: translator(x, max_length=2048)[0][\"translation_text\"])"
   ]
  },
  {
   "cell_type": "code",
   "execution_count": 104,
   "metadata": {
    "colab": {
     "base_uri": "https://localhost:8080/"
    },
    "executionInfo": {
     "elapsed": 5553,
     "status": "ok",
     "timestamp": 1738848029939,
     "user": {
      "displayName": "Antonio Leandro Martins Candido",
      "userId": "15737482048554646673"
     },
     "user_tz": 180
    },
    "id": "5NPgqkdIaHab",
    "outputId": "a5392999-268b-40b9-8631-6e18c760e1fe"
   },
   "outputs": [
    {
     "data": {
      "text/plain": [
       "['Interessante! Quantas vezes dizemos essas coisas aos outros sem realmente entender o que estamos dizendo. Deve ter sido uma experiência poderosa! Excelente!',\n",
       " 'O que é \"Álgebra como um Jogo de Matemática\" ou você está apenas dizendo que cria jogos que incorporam álgebra?',\n",
       " 'Eu gosto da ideia do diretor dos meus filhos que diz “Smart não significa fácil, inteligente significa trabalhar duro” e incorpora a ideia de cometer erros para trabalhar duro.',\n",
       " 'A partir de suas respostas, parece que os alunos realmente gostaram do poder que sentiam ser \"livres\" para resolver a matemática da maneira que quisessem. Eles usaram linguagem acadêmica como números em decomposição e números amigáveis e foram capazes de explicar o significado. \"',\n",
       " 'Os meninos adoraram a matemática, porque há liberdade, você pode fazer qualquer coisa.\" Que ótima maneira de ver matemática e números! Não acho que os alunos percebam que a matemática pode ser ensinada de maneira diferente. Eles só pensaram que é isso que você aprende quando você é um aluno da terceira série. Você precisa saber antes de ir para a quarta série. _x0007__x0007_Isso é tão inspirador! :)\"',\n",
       " 'A ideia generalizada de que ser bom em matemática é, de alguma forma, ser um Geeky Genius de outra forma distraído que não pode se relacionar com \"pessoas comuns\".',\n",
       " 'O módulo de revisão por pares ainda não está totalmente configurado. Você não fez nada de errado - o Professor Boaler simplesmente tem um pouco mais de trabalho a fazer antes de estar totalmente pronto para participarmos._x0007___x0007__Você pode ler o que a equipe de Suporte Técnico tem a dizer sobre isso a hrefhttps://class.stanford.edu/courses/EducationEDUC115N/How_Lear_Lear_',\n",
       " 'Gostaria de começar o ano de folga compartilhando alguns desses vídeos com meus alunos. Especialmente sobre mentalidade e erros. Eu acho que é importante que eles estejam cientes de seus hábitos e tentem mudar sua maneira de pensar.',\n",
       " 'Pedir aos alunos que ilustrem como os erros podem levar à sua aprendizagem é normalizar e encorajar os outros.',\n",
       " 'Eu acho que isso cai no professor. Alguém me desafiou com isso acima... porque se você tem um professor que é apenas terrível e não sabe como gerenciar uma classe de habilidade mista, você fica muito entediado. Você é muito fácil, você pensa que é difícil. No entanto, se o professor sabe como diferenciar corretamente, eles podem desafiar seu filho, dentro dos mesmos limites difíceis do conceito que está sendo aprendido, em um nível mais profundo.']"
      ]
     },
     "execution_count": 104,
     "metadata": {},
     "output_type": "execute_result"
    }
   ],
   "source": [
    "# melhor uso da GPU\n",
    "translated_posts = translator(\n",
    "    df[\"Text\"][0:10]\n",
    "    .apply(lambda x: x if type(x) in (str, list) else \"no text\")\n",
    "    .to_list(),\n",
    "    max_length=2048,\n",
    ")\n",
    "translated_posts = [post[\"translation_text\"] for post in translated_posts]\n",
    "translated_posts"
   ]
  },
  {
   "cell_type": "code",
   "execution_count": null,
   "metadata": {},
   "outputs": [],
   "source": [
    "# traduzir em lotes\n",
    "batch_size = 100\n",
    "translated_posts = []\n",
    "\n",
    "for i in tqdm(range(0, len(df), batch_size)):\n",
    "    try:\n",
    "        batch = df[\"Text\"][i : i + batch_size]\n",
    "        translated_batch = translator(\n",
    "          batch.apply(lambda x: x if type(x) in (str, list) else \"no text\").to_list(),\n",
    "          max_length=2048,\n",
    "        )\n",
    "        translated_batch = [post[\"translation_text\"] for post in translated_batch]\n",
    "        translated_posts.extend(translated_batch)\n",
    "    except Exception as e:\n",
    "        print(f\"Error in Translating batch {i // batch_size + 1} of {len(df) // batch_size}: {e}\")\n",
    "        continue\n",
    "    \n",
    "df.insert(1, column=\"Text_PT\", value=translated_posts)\n",
    "df.to_excel('data/stanfordMOOCForumPostsSet_PT.xlsx', index=False)\n",
    "df.head(3)"
   ]
  },
  {
   "cell_type": "markdown",
   "metadata": {},
   "source": [
    "##### Traduzir com Google Translate"
   ]
  },
  {
   "cell_type": "code",
   "execution_count": 4,
   "metadata": {},
   "outputs": [],
   "source": [
    "async def traduzir_texto(texto, idioma_destino='pt'):\n",
    "  async with Translator() as translator:\n",
    "    result = await translator.translate(texto, idioma_destino)\n",
    "    return result.text"
   ]
  },
  {
   "cell_type": "code",
   "execution_count": 5,
   "metadata": {},
   "outputs": [
    {
     "data": {
      "text/plain": [
       "'Olá, como vai?'"
      ]
     },
     "execution_count": 5,
     "metadata": {},
     "output_type": "execute_result"
    }
   ],
   "source": [
    "texto = \"Hello, how are you?\"\n",
    "traducao = await traduzir_texto(texto)  # Traduzindo para português\n",
    "traducao"
   ]
  },
  {
   "cell_type": "code",
   "execution_count": 6,
   "metadata": {},
   "outputs": [
    {
     "name": "stderr",
     "output_type": "stream",
     "text": [
      "  0%|          | 0/297 [00:00<?, ?it/s]"
     ]
    },
    {
     "name": "stderr",
     "output_type": "stream",
     "text": [
      "100%|██████████| 297/297 [8:11:16<00:00, 99.25s/it]   \n"
     ]
    },
    {
     "data": {
      "text/html": [
       "<div>\n",
       "<style scoped>\n",
       "    .dataframe tbody tr th:only-of-type {\n",
       "        vertical-align: middle;\n",
       "    }\n",
       "\n",
       "    .dataframe tbody tr th {\n",
       "        vertical-align: top;\n",
       "    }\n",
       "\n",
       "    .dataframe thead th {\n",
       "        text-align: right;\n",
       "    }\n",
       "</style>\n",
       "<table border=\"1\" class=\"dataframe\">\n",
       "  <thead>\n",
       "    <tr style=\"text-align: right;\">\n",
       "      <th></th>\n",
       "      <th>Text</th>\n",
       "      <th>Text_PT</th>\n",
       "      <th>Opinion(1/0)</th>\n",
       "      <th>Question(1/0)</th>\n",
       "      <th>Answer(1/0)</th>\n",
       "      <th>Sentiment(1-7)</th>\n",
       "      <th>Confusion(1-7)</th>\n",
       "      <th>Urgency(1-7)</th>\n",
       "      <th>CourseType</th>\n",
       "      <th>forum_post_id</th>\n",
       "      <th>course_display_name</th>\n",
       "      <th>forum_uid</th>\n",
       "      <th>created_at</th>\n",
       "      <th>post_type</th>\n",
       "      <th>anonymous</th>\n",
       "      <th>anonymous_to_peers</th>\n",
       "      <th>up_count</th>\n",
       "      <th>comment_thread_id</th>\n",
       "      <th>reads</th>\n",
       "    </tr>\n",
       "  </thead>\n",
       "  <tbody>\n",
       "    <tr>\n",
       "      <th>0</th>\n",
       "      <td>Interesting! How often we say those things to ...</td>\n",
       "      <td>Interessante! Quantas vezes dizemos essas cois...</td>\n",
       "      <td>1</td>\n",
       "      <td>0</td>\n",
       "      <td>0</td>\n",
       "      <td>6.5</td>\n",
       "      <td>2.0</td>\n",
       "      <td>1.5</td>\n",
       "      <td>Education</td>\n",
       "      <td>5225177f2c501f0a00000015</td>\n",
       "      <td>Education/EDUC115N/How_to_Learn_Math</td>\n",
       "      <td>30CADB93E6DE4711193D7BD05F2AE95C</td>\n",
       "      <td>2013-09-02 22:55:59</td>\n",
       "      <td>Comment</td>\n",
       "      <td>0.0</td>\n",
       "      <td>0.0</td>\n",
       "      <td>0.0</td>\n",
       "      <td>5221a8262cfae31200000001</td>\n",
       "      <td>41.0</td>\n",
       "    </tr>\n",
       "    <tr>\n",
       "      <th>1</th>\n",
       "      <td>What is \\Algebra as a Math Game\\\" or are you j...</td>\n",
       "      <td>O que é \\ Álgebra como um jogo de matemática \\...</td>\n",
       "      <td>0</td>\n",
       "      <td>1</td>\n",
       "      <td>0</td>\n",
       "      <td>4.0</td>\n",
       "      <td>5.0</td>\n",
       "      <td>3.5</td>\n",
       "      <td>Education</td>\n",
       "      <td>5207d0e9935dfc0e0000005e</td>\n",
       "      <td>Education/EDUC115N/How_to_Learn_Math</td>\n",
       "      <td>37D8FAEE7D0B94B6CFC57D98FD3D0BA5</td>\n",
       "      <td>2013-08-11 17:59:05</td>\n",
       "      <td>Comment</td>\n",
       "      <td>0.0</td>\n",
       "      <td>0.0</td>\n",
       "      <td>0.0</td>\n",
       "      <td>520663839df35b0a00000043</td>\n",
       "      <td>55.0</td>\n",
       "    </tr>\n",
       "    <tr>\n",
       "      <th>2</th>\n",
       "      <td>I like the idea of my kids principal who says ...</td>\n",
       "      <td>Gosto da ideia do diretor dos meus filhos que ...</td>\n",
       "      <td>1</td>\n",
       "      <td>0</td>\n",
       "      <td>0</td>\n",
       "      <td>5.5</td>\n",
       "      <td>3.0</td>\n",
       "      <td>2.5</td>\n",
       "      <td>Education</td>\n",
       "      <td>52052c82d01fec0a00000071</td>\n",
       "      <td>Education/EDUC115N/How_to_Learn_Math</td>\n",
       "      <td>CC11480215042B3EB6E5905EAB13B733</td>\n",
       "      <td>2013-08-09 17:53:06</td>\n",
       "      <td>Comment</td>\n",
       "      <td>0.0</td>\n",
       "      <td>0.0</td>\n",
       "      <td>0.0</td>\n",
       "      <td>51e59415e339d716000001a6</td>\n",
       "      <td>25.0</td>\n",
       "    </tr>\n",
       "  </tbody>\n",
       "</table>\n",
       "</div>"
      ],
      "text/plain": [
       "                                                Text  \\\n",
       "0  Interesting! How often we say those things to ...   \n",
       "1  What is \\Algebra as a Math Game\\\" or are you j...   \n",
       "2  I like the idea of my kids principal who says ...   \n",
       "\n",
       "                                             Text_PT  Opinion(1/0)  \\\n",
       "0  Interessante! Quantas vezes dizemos essas cois...             1   \n",
       "1  O que é \\ Álgebra como um jogo de matemática \\...             0   \n",
       "2  Gosto da ideia do diretor dos meus filhos que ...             1   \n",
       "\n",
       "   Question(1/0)  Answer(1/0)  Sentiment(1-7)  Confusion(1-7)  Urgency(1-7)  \\\n",
       "0              0            0             6.5             2.0           1.5   \n",
       "1              1            0             4.0             5.0           3.5   \n",
       "2              0            0             5.5             3.0           2.5   \n",
       "\n",
       "  CourseType             forum_post_id                   course_display_name  \\\n",
       "0  Education  5225177f2c501f0a00000015  Education/EDUC115N/How_to_Learn_Math   \n",
       "1  Education  5207d0e9935dfc0e0000005e  Education/EDUC115N/How_to_Learn_Math   \n",
       "2  Education  52052c82d01fec0a00000071  Education/EDUC115N/How_to_Learn_Math   \n",
       "\n",
       "                          forum_uid          created_at post_type  anonymous  \\\n",
       "0  30CADB93E6DE4711193D7BD05F2AE95C 2013-09-02 22:55:59   Comment        0.0   \n",
       "1  37D8FAEE7D0B94B6CFC57D98FD3D0BA5 2013-08-11 17:59:05   Comment        0.0   \n",
       "2  CC11480215042B3EB6E5905EAB13B733 2013-08-09 17:53:06   Comment        0.0   \n",
       "\n",
       "   anonymous_to_peers  up_count         comment_thread_id  reads  \n",
       "0                 0.0       0.0  5221a8262cfae31200000001   41.0  \n",
       "1                 0.0       0.0  520663839df35b0a00000043   55.0  \n",
       "2                 0.0       0.0  51e59415e339d716000001a6   25.0  "
      ]
     },
     "execution_count": 6,
     "metadata": {},
     "output_type": "execute_result"
    }
   ],
   "source": [
    "# traduzir em lotes\n",
    "batch_size = 100\n",
    "translated_posts = []\n",
    "\n",
    "for i in tqdm(range(0, len(df), batch_size)):\n",
    "    try:\n",
    "        batch = df[\"Text\"][i : i + batch_size]\n",
    "        translated_batch = []\n",
    "        for text in batch:\n",
    "            translated_batch.append(await traduzir_texto(text))\n",
    "        \n",
    "        translated_posts.extend(translated_batch)\n",
    "    except Exception as e:\n",
    "        print(f\"Error in Translating batch {i // batch_size + 1} of {len(df) // batch_size}: {e}\")\n",
    "        continue\n",
    "\n",
    "df.insert(1, column=\"Text_PT\", value=translated_posts)\n",
    "df.to_excel(\"data/stanfordMOOCForumPostsSet_PT.xlsx\", index=False)\n",
    "df.head(3)"
   ]
  },
  {
   "cell_type": "code",
   "execution_count": 8,
   "metadata": {},
   "outputs": [
    {
     "data": {
      "text/plain": [
       "('Interesting! How often we say those things to others without really understanding what we are saying. That must have been a powerful experience! Excellent!',\n",
       " 'Interessante! Quantas vezes dizemos essas coisas para os outros sem realmente entender o que estamos dizendo. Essa deve ter sido uma experiência poderosa! Excelente!')"
      ]
     },
     "execution_count": 8,
     "metadata": {},
     "output_type": "execute_result"
    }
   ],
   "source": [
    "df['Text'][0], df['Text_PT'][0]"
   ]
  },
  {
   "cell_type": "code",
   "execution_count": 10,
   "metadata": {},
   "outputs": [
    {
     "data": {
      "text/plain": [
       "('I was talking about products with same/ different indices... Anyhow, smgross has explained it beautifully... Regards!',\n",
       " 'Eu estava falando sobre produtos com os mesmos/ diferentes índices ... De qualquer forma, Smgross explicou lindamente ... Atenciosamente!')"
      ]
     },
     "execution_count": 10,
     "metadata": {},
     "output_type": "execute_result"
    }
   ],
   "source": [
    "df[\"Text\"][15000], df[\"Text_PT\"][15000]\n"
   ]
  },
  {
   "cell_type": "code",
   "execution_count": 9,
   "metadata": {},
   "outputs": [
    {
     "data": {
      "text/plain": [
       "('Thanks for sharing bmadhusu,_x0007__x0007_You are correct, in essence, you can define test outcome however you want. Test + can be a good thing, test - can be a bad thing, etc. The key is understanding how to set up a 2x2 and how to calculate the corresponding values (sensitivity, specificity, NPV, PPV, etc). _x0007__x0007_Josh',\n",
       " 'Obrigado por compartilhar Bmadhusu, _x0007__x0007_ Você está correto, em essência, você pode definir o resultado do teste como quiser. O teste + pode ser uma coisa boa, teste - pode ser uma coisa ruim, etc. A chave é entender como configurar um 2x2 e como calcular os valores correspondentes (sensibilidade, especificidade, VPL, PPV, etc.). _x0007__X0007_Josh')"
      ]
     },
     "execution_count": 9,
     "metadata": {},
     "output_type": "execute_result"
    }
   ],
   "source": [
    "df[\"Text\"][29000], df[\"Text_PT\"][29000]"
   ]
  }
 ],
 "metadata": {
  "accelerator": "GPU",
  "colab": {
   "gpuType": "T4",
   "provenance": []
  },
  "kernelspec": {
   "display_name": "base",
   "language": "python",
   "name": "python3"
  },
  "language_info": {
   "codemirror_mode": {
    "name": "ipython",
    "version": 3
   },
   "file_extension": ".py",
   "mimetype": "text/x-python",
   "name": "python",
   "nbconvert_exporter": "python",
   "pygments_lexer": "ipython3",
   "version": "3.12.7"
  }
 },
 "nbformat": 4,
 "nbformat_minor": 0
}
