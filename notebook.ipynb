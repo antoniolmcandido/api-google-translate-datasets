{
 "cells": [
  {
   "cell_type": "markdown",
   "metadata": {},
   "source": [
    "##### Carregando dataset"
   ]
  },
  {
   "cell_type": "code",
   "execution_count": null,
   "metadata": {
    "colab": {
     "base_uri": "https://localhost:8080/",
     "height": 406
    },
    "executionInfo": {
     "elapsed": 15488,
     "status": "ok",
     "timestamp": 1738850350410,
     "user": {
      "displayName": "Antonio Leandro Martins Candido",
      "userId": "15737482048554646673"
     },
     "user_tz": 180
    },
    "id": "BPXksUai7BeA",
    "outputId": "805b3854-1b34-4fda-b182-71ea1183b571"
   },
   "outputs": [],
   "source": [
    "import pandas as pd\n",
    "from warnings import filterwarnings\n",
    "filterwarnings('ignore')\n",
    "\n",
    "import os\n",
    "os.environ['CUDA_LAUNCH_BLOCKING'] = '1'\n",
    "os.environ['TORCH_USE_CUDA_DSA'] = '1'\n",
    "\n",
    "df = pd.read_excel('data/stanfordMOOCForumPostsSet.xlsx')\n",
    "df.head(3)"
   ]
  },
  {
   "cell_type": "markdown",
   "metadata": {},
   "source": [
    "##### Carregando Transformer"
   ]
  },
  {
   "cell_type": "code",
   "execution_count": null,
   "metadata": {
    "colab": {
     "base_uri": "https://localhost:8080/"
    },
    "executionInfo": {
     "elapsed": 17958,
     "status": "ok",
     "timestamp": 1738850376632,
     "user": {
      "displayName": "Antonio Leandro Martins Candido",
      "userId": "15737482048554646673"
     },
     "user_tz": 180
    },
    "id": "oHY48qOw7BeD",
    "outputId": "8c3acaba-c5ab-44b1-b1ac-daed421f321d"
   },
   "outputs": [],
   "source": [
    "from transformers import pipeline\n",
    "translator = pipeline(\"translation\", model=\"Helsinki-NLP/opus-mt-tc-big-en-pt\")\n",
    "# translator = pipeline(\"translation\", model=\"Helsinki-NLP/opus-mt-tc-big-en-pt\", device=-1) # device=-1 para CPU"
   ]
  },
  {
   "cell_type": "markdown",
   "metadata": {},
   "source": [
    "##### Removendo null"
   ]
  },
  {
   "cell_type": "code",
   "execution_count": null,
   "metadata": {
    "colab": {
     "base_uri": "https://localhost:8080/"
    },
    "executionInfo": {
     "elapsed": 13,
     "status": "ok",
     "timestamp": 1738850405671,
     "user": {
      "displayName": "Antonio Leandro Martins Candido",
      "userId": "15737482048554646673"
     },
     "user_tz": 180
    },
    "id": "mc_tg337g1ct",
    "outputId": "6cfbe9df-249b-4312-8a33-6f3461a6b77a"
   },
   "outputs": [],
   "source": [
    "print(df['Text'].isnull().sum()) # Verifica valores nulos\n",
    "# print(df['Text'].apply(len).describe()) # Verifica estatísticas de comprimento"
   ]
  },
  {
   "cell_type": "code",
   "execution_count": null,
   "metadata": {
    "colab": {
     "base_uri": "https://localhost:8080/"
    },
    "executionInfo": {
     "elapsed": 8,
     "status": "ok",
     "timestamp": 1738850410312,
     "user": {
      "displayName": "Antonio Leandro Martins Candido",
      "userId": "15737482048554646673"
     },
     "user_tz": 180
    },
    "id": "WjTH8tOwi-63",
    "outputId": "ca743f94-a5b3-4527-cc19-abd15cf6911a"
   },
   "outputs": [],
   "source": [
    "null_indices = df[df['Text'].isnull()].index.tolist()\n",
    "null_indices"
   ]
  },
  {
   "cell_type": "code",
   "execution_count": null,
   "metadata": {
    "colab": {
     "base_uri": "https://localhost:8080/",
     "height": 35
    },
    "executionInfo": {
     "elapsed": 6,
     "status": "ok",
     "timestamp": 1738850412426,
     "user": {
      "displayName": "Antonio Leandro Martins Candido",
      "userId": "15737482048554646673"
     },
     "user_tz": 180
    },
    "id": "egTlbtH4jG4P",
    "outputId": "6b8f52a1-9845-44bd-c999-4f6aec1e0313"
   },
   "outputs": [],
   "source": [
    "df['Text'][18312] = ''\n",
    "df['Text'][18312]"
   ]
  },
  {
   "cell_type": "markdown",
   "metadata": {},
   "source": [
    "##### Removendo int"
   ]
  },
  {
   "cell_type": "code",
   "execution_count": null,
   "metadata": {},
   "outputs": [],
   "source": [
    "df[df['Text'].apply(lambda x: type(x) == int)].index.tolist()"
   ]
  },
  {
   "cell_type": "code",
   "execution_count": null,
   "metadata": {},
   "outputs": [],
   "source": [
    "df['Text'][11157] = ''\n",
    "df['Text'][19732] = ''\n",
    "df['Text'][23525] = ''\n",
    "df['Text'][24285] = ''"
   ]
  },
  {
   "cell_type": "markdown",
   "metadata": {},
   "source": [
    "##### Removendo float"
   ]
  },
  {
   "cell_type": "code",
   "execution_count": null,
   "metadata": {},
   "outputs": [],
   "source": [
    "df[df[\"Text\"].apply(lambda x: type(x) == float)].index.tolist()"
   ]
  },
  {
   "cell_type": "code",
   "execution_count": 28,
   "metadata": {},
   "outputs": [],
   "source": [
    "df[\"Text\"][27323] = \"\""
   ]
  },
  {
   "cell_type": "markdown",
   "metadata": {},
   "source": [
    "##### Removendo caracteres não Ascii"
   ]
  },
  {
   "cell_type": "code",
   "execution_count": null,
   "metadata": {},
   "outputs": [],
   "source": [
    "def remove_non_ascii(text):\n",
    "    return \"\".join(char for char in text if char.isascii())\n",
    "\n",
    "df[\"Text\"] = df[\"Text\"].apply(lambda x: remove_non_ascii(x))"
   ]
  },
  {
   "cell_type": "markdown",
   "metadata": {},
   "source": [
    "##### Traduções"
   ]
  },
  {
   "cell_type": "code",
   "execution_count": null,
   "metadata": {
    "colab": {
     "base_uri": "https://localhost:8080/",
     "height": 52
    },
    "executionInfo": {
     "elapsed": 22,
     "status": "ok",
     "timestamp": 1738849417068,
     "user": {
      "displayName": "Antonio Leandro Martins Candido",
      "userId": "15737482048554646673"
     },
     "user_tz": 180
    },
    "id": "ZQVhZ_X87BeE",
    "outputId": "17b10c46-34f2-4064-b05e-88a832c09401"
   },
   "outputs": [],
   "source": [
    "df[\"Text\"][2]"
   ]
  },
  {
   "cell_type": "code",
   "execution_count": null,
   "metadata": {
    "colab": {
     "base_uri": "https://localhost:8080/",
     "height": 52
    },
    "executionInfo": {
     "elapsed": 845,
     "status": "ok",
     "timestamp": 1738850382237,
     "user": {
      "displayName": "Antonio Leandro Martins Candido",
      "userId": "15737482048554646673"
     },
     "user_tz": 180
    },
    "id": "QYeKsWlq7BeE",
    "outputId": "bd33be83-f561-4237-e04a-2495149a2e2e"
   },
   "outputs": [],
   "source": [
    "# traduzir um documento\n",
    "translator(df[\"Text\"][2], max_length=2048)[0][\"translation_text\"]"
   ]
  },
  {
   "cell_type": "code",
   "execution_count": 44,
   "metadata": {
    "colab": {
     "base_uri": "https://localhost:8080/",
     "height": 415
    },
    "executionInfo": {
     "elapsed": 8492,
     "status": "ok",
     "timestamp": 1738850393987,
     "user": {
      "displayName": "Antonio Leandro Martins Candido",
      "userId": "15737482048554646673"
     },
     "user_tz": 180
    },
    "id": "db2b38857BeF",
    "outputId": "0285d43a-cafe-44ee-9e6c-f8b2a6203c80"
   },
   "outputs": [
    {
     "name": "stderr",
     "output_type": "stream",
     "text": [
      "You seem to be using the pipelines sequentially on GPU. In order to maximize efficiency please use a dataset\n"
     ]
    },
    {
     "data": {
      "text/plain": [
       "0    Interessante! Quantas vezes dizemos essas cois...\n",
       "1    O que é \"Álgebra como um Jogo de Matemática\" o...\n",
       "2    Eu gosto da ideia do diretor dos meus filhos q...\n",
       "3    A partir de suas respostas, parece que os alun...\n",
       "4    Os meninos adoraram a matemática, porque há li...\n",
       "5    A ideia generalizada de que ser bom em matemát...\n",
       "6    O módulo de revisão por pares ainda não está t...\n",
       "7    Gostaria de começar o ano de folga compartilha...\n",
       "8    Pedir aos alunos que ilustrem como os erros po...\n",
       "9    Eu acho que isso cai no professor. Alguém me d...\n",
       "Name: Text, dtype: object"
      ]
     },
     "execution_count": 44,
     "metadata": {},
     "output_type": "execute_result"
    }
   ],
   "source": [
    "# teste de 10 traduções\n",
    "df[\"Text\"][0:10].apply(lambda x: translator(x, max_length=2048)[0][\"translation_text\"])"
   ]
  },
  {
   "cell_type": "code",
   "execution_count": 45,
   "metadata": {
    "colab": {
     "base_uri": "https://localhost:8080/"
    },
    "executionInfo": {
     "elapsed": 5553,
     "status": "ok",
     "timestamp": 1738848029939,
     "user": {
      "displayName": "Antonio Leandro Martins Candido",
      "userId": "15737482048554646673"
     },
     "user_tz": 180
    },
    "id": "5NPgqkdIaHab",
    "outputId": "a5392999-268b-40b9-8631-6e18c760e1fe"
   },
   "outputs": [
    {
     "data": {
      "text/plain": [
       "['Interessante! Quantas vezes dizemos essas coisas aos outros sem realmente entender o que estamos dizendo. Deve ter sido uma experiência poderosa! Excelente!',\n",
       " 'O que é \"Álgebra como um Jogo de Matemática\" ou você está apenas dizendo que cria jogos que incorporam álgebra?',\n",
       " 'Eu gosto da ideia do diretor dos meus filhos que diz “Smart não significa fácil, inteligente significa trabalhar duro” e incorpora a ideia de cometer erros para trabalhar duro.',\n",
       " 'A partir de suas respostas, parece que os alunos realmente gostaram do poder que sentiam ser \"livres\" para resolver a matemática da maneira que quisessem. Eles usaram linguagem acadêmica como números em decomposição e números amigáveis e foram capazes de explicar o significado. \"',\n",
       " 'Os meninos adoraram a matemática, porque há liberdade, você pode fazer qualquer coisa.\" Que ótima maneira de ver matemática e números! Não acho que os alunos percebam que a matemática pode ser ensinada de maneira diferente. Eles só pensaram que é isso que você aprende quando você é um aluno da terceira série. Você precisa saber antes de ir para a quarta série. _x0007__x0007_Isso é tão inspirador! :)\"',\n",
       " 'A ideia generalizada de que ser bom em matemática é, de alguma forma, ser um Geeky Genius de outra forma distraído que não pode se relacionar com \"pessoas comuns\".',\n",
       " 'O módulo de revisão por pares ainda não está totalmente configurado. Você não fez nada de errado - o Professor Boaler simplesmente tem um pouco mais de trabalho a fazer antes de estar totalmente pronto para participarmos._x0007___x0007__Você pode ler o que a equipe de Suporte Técnico tem a dizer sobre isso a hrefhttps://class.stanford.edu/courses/EducationEDUC115N/How_Lear_Lear_',\n",
       " 'Gostaria de começar o ano de folga compartilhando alguns desses vídeos com meus alunos. Especialmente sobre mentalidade e erros. Eu acho que é importante que eles estejam cientes de seus hábitos e tentem mudar sua maneira de pensar.',\n",
       " 'Pedir aos alunos que ilustrem como os erros podem levar à sua aprendizagem é normalizar e encorajar os outros.',\n",
       " 'Eu acho que isso cai no professor. Alguém me desafiou com isso acima... porque se você tem um professor que é apenas terrível e não sabe como gerenciar uma classe de habilidade mista, você fica muito entediado. Você é muito fácil, você pensa que é difícil. No entanto, se o professor sabe como diferenciar corretamente, eles podem desafiar seu filho, dentro dos mesmos limites difíceis do conceito que está sendo aprendido, em um nível mais profundo.']"
      ]
     },
     "execution_count": 45,
     "metadata": {},
     "output_type": "execute_result"
    }
   ],
   "source": [
    "# melhor uso da GPU\n",
    "translated_posts = translator(\n",
    "    df[\"Text\"][0:10]\n",
    "    .apply(lambda x: x if type(x) in (str, list) else \"no text\")\n",
    "    .to_list(),\n",
    "    max_length=2048,\n",
    ")\n",
    "translated_posts = [post[\"translation_text\"] for post in translated_posts]\n",
    "translated_posts"
   ]
  },
  {
   "cell_type": "code",
   "execution_count": null,
   "metadata": {
    "colab": {
     "base_uri": "https://localhost:8080/",
     "height": 445
    },
    "executionInfo": {
     "elapsed": 302290,
     "status": "error",
     "timestamp": 1738848396124,
     "user": {
      "displayName": "Antonio Leandro Martins Candido",
      "userId": "15737482048554646673"
     },
     "user_tz": 180
    },
    "id": "5lMMMa6g7BeF",
    "outputId": "773ef645-91f8-4be8-cb22-c75f88020f5c"
   },
   "outputs": [],
   "source": [
    "# traduzir dataset completo\n",
    "translated_posts = translator(\n",
    "    df[\"Text\"]\n",
    "    .apply(lambda x: x if type(x) in (str, list) else \"no text\")\n",
    "    .to_list(),\n",
    "    max_length=2048,\n",
    ")\n",
    "translated_posts = [post[\"translation_text\"] for post in translated_posts]\n",
    "\n",
    "# salvar\n",
    "df.insert(1, column=\"Text_PT\", value=translated_posts)\n",
    "df.to_excel('data/stanfordMOOCForumPostsSet_PT.xlsx', index=False)\n",
    "df.head(3)"
   ]
  },
  {
   "cell_type": "code",
   "execution_count": null,
   "metadata": {
    "colab": {
     "base_uri": "https://localhost:8080/",
     "height": 428
    },
    "executionInfo": {
     "elapsed": 524292,
     "status": "error",
     "timestamp": 1738850951338,
     "user": {
      "displayName": "Antonio Leandro Martins Candido",
      "userId": "15737482048554646673"
     },
     "user_tz": 180
    },
    "id": "KkiFU2pqgnrx",
    "outputId": "ad8d93cd-4be9-4649-8119-63fbb1f4dc9f"
   },
   "outputs": [],
   "source": [
    "# traduzir em lotes\n",
    "batch_size = 100  # Ajuste este valor conforme necessário\n",
    "translated_posts = []\n",
    "\n",
    "for i in range(0, len(df), batch_size):\n",
    "    batch = df[\"Text\"][i : i + batch_size]\n",
    "    translated_batch = translator(\n",
    "        batch.apply(lambda x: x if type(x) in (str, list) else \"no text\").to_list(),\n",
    "        max_length=2048,\n",
    "    )\n",
    "    translated_batch = [post[\"translation_text\"] for post in translated_batch]\n",
    "    translated_posts.extend(translated_batch)\n",
    "\n",
    "df.insert(1, column=\"Text_PT\", value=translated_posts)\n",
    "df.to_excel('data/stanfordMOOCForumPostsSet_PT.xlsx', index=False)\n",
    "df.head(3)"
   ]
  }
 ],
 "metadata": {
  "accelerator": "GPU",
  "colab": {
   "gpuType": "T4",
   "provenance": []
  },
  "kernelspec": {
   "display_name": "base",
   "language": "python",
   "name": "python3"
  },
  "language_info": {
   "codemirror_mode": {
    "name": "ipython",
    "version": 3
   },
   "file_extension": ".py",
   "mimetype": "text/x-python",
   "name": "python",
   "nbconvert_exporter": "python",
   "pygments_lexer": "ipython3",
   "version": "3.12.7"
  }
 },
 "nbformat": 4,
 "nbformat_minor": 0
}
